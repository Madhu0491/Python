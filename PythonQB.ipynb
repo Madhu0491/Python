{
 "cells": [
  {
   "cell_type": "code",
   "execution_count": 1,
   "id": "d14a0807",
   "metadata": {},
   "outputs": [],
   "source": [
    "str = \"Lorem ipsum dolor! diam amet, consetetur Lorem magna. sed diam nonumy eirmod tempor. diam et labore? et diam magna. et diam amet.\""
   ]
  },
  {
   "cell_type": "code",
   "execution_count": 17,
   "id": "f818a0d3",
   "metadata": {},
   "outputs": [],
   "source": [
    "class TextAnalyzer(object):\n",
    "    def __init__(self, text):\n",
    "        ftext = text.replace(\".\",\" \").replace(\",\",\"?\")\n",
    "        ftext = ftext.lower()\n",
    "        self.fmttext = ftext\n",
    "        \n",
    "        "
   ]
  },
  {
   "cell_type": "code",
   "execution_count": 19,
   "id": "8677b0b9",
   "metadata": {},
   "outputs": [
    {
     "name": "stdout",
     "output_type": "stream",
     "text": [
      "<__main__.TextAnalyzer object at 0x000002088A3B8D90>\n"
     ]
    }
   ],
   "source": [
    "TextAnalyzer(str)"
   ]
  },
  {
   "cell_type": "code",
   "execution_count": 66,
   "id": "9aafb6d6",
   "metadata": {},
   "outputs": [],
   "source": [
    "class TextAnalyzer(object):\n",
    "    def __init__(self, text):\n",
    "        ftext = text.replace(\".\",\" \").replace(\",\",\" \").replace(\"?\",\" \")\n",
    "        ftext = ftext.lower()\n",
    "        self.fmttext = ftext\n",
    "        \n",
    "        \n",
    "    def freqALL(self):\n",
    "        wordList =self.fmttext.split(' ')\n",
    "        \n",
    "        freqwords = {}\n",
    "        for words in set(wordList):#set is used to remove duplicates\n",
    "            freqwords[words] = wordList.count(words)\n",
    "            \n",
    "        return freqwords\n",
    "            \n",
    "    def freqOf(self,word):\n",
    "        # get frequency map\n",
    "        freqDict = self.freqAll()\n",
    "        \n",
    "        if word in freqDict:\n",
    "            return freqDict[word]\n",
    "        else:\n",
    "            return 0\n",
    "            "
   ]
  },
  {
   "cell_type": "code",
   "execution_count": 67,
   "id": "368bae47",
   "metadata": {},
   "outputs": [],
   "source": [
    "analyzed = TextAnalyzer(str)"
   ]
  },
  {
   "cell_type": "code",
   "execution_count": 68,
   "id": "71c06217",
   "metadata": {},
   "outputs": [
    {
     "name": "stdout",
     "output_type": "stream",
     "text": [
      "Formatted Text: lorem ipsum dolor! diam amet  consetetur lorem magna  sed diam nonumy eirmod tempor  diam et labore  et diam magna  et diam amet \n"
     ]
    }
   ],
   "source": [
    "print(\"Formatted Text:\", analyzed.fmttext)"
   ]
  },
  {
   "cell_type": "code",
   "execution_count": 69,
   "id": "84160a28",
   "metadata": {},
   "outputs": [
    {
     "name": "stdout",
     "output_type": "stream",
     "text": [
      "{'lorem': 2, '': 6, 'sed': 1, 'et': 3, 'amet': 2, 'magna': 2, 'dolor!': 1, 'diam': 5, 'tempor': 1, 'labore': 1, 'consetetur': 1, 'eirmod': 1, 'nonumy': 1, 'ipsum': 1}\n"
     ]
    }
   ],
   "source": [
    "freqwords = analyzed.freqALL()\n",
    "print(freqwords)"
   ]
  },
  {
   "cell_type": "code",
   "execution_count": null,
   "id": "311de7cb",
   "metadata": {},
   "outputs": [],
   "source": [
    "word = \"lorem\"\n",
    "frequency = analyzed.freqOf(word)\n",
    "print(\"The word\",word,\"appears\",frequency,\"times.\")"
   ]
  }
 ],
 "metadata": {
  "kernelspec": {
   "display_name": "Python 3",
   "language": "python",
   "name": "python3"
  },
  "language_info": {
   "codemirror_mode": {
    "name": "ipython",
    "version": 3
   },
   "file_extension": ".py",
   "mimetype": "text/x-python",
   "name": "python",
   "nbconvert_exporter": "python",
   "pygments_lexer": "ipython3",
   "version": "3.8.8"
  }
 },
 "nbformat": 4,
 "nbformat_minor": 5
}
