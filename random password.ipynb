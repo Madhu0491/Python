{
 "cells": [
  {
   "cell_type": "code",
   "execution_count": 2,
   "id": "f54b5f8a-685b-4820-8524-79736c1d110e",
   "metadata": {},
   "outputs": [
    {
     "name": "stdout",
     "output_type": "stream",
     "text": [
      "Welcome to creation of RandomPWD\n"
     ]
    }
   ],
   "source": [
    "import random\n",
    "\n",
    "print(\"Welcome to creation of RandomPWD\")"
   ]
  },
  {
   "cell_type": "code",
   "execution_count": 8,
   "id": "022250f2-5a27-4f97-9828-e810e4c38612",
   "metadata": {},
   "outputs": [],
   "source": [
    "char = 'asdfghjklmnbvcxzqwertyuiopQWERTYUIOPLKJHGFDSAZXCVBNM<>?:{}+_)(*&^%$#@!1234567890[]\\';/.,\\\"'\n"
   ]
  },
  {
   "cell_type": "code",
   "execution_count": 11,
   "id": "c816c7c8-0061-45b2-b897-22ce78769cf0",
   "metadata": {},
   "outputs": [
    {
     "name": "stdin",
     "output_type": "stream",
     "text": [
      "Enter the no of passwords to be generated 3\n",
      "Enter the password length 15\n"
     ]
    }
   ],
   "source": [
    "nop = int(input(\"Enter the no of passwords to be generated\"))\n",
    "passlength = int(input(\"Enter the password length\"))"
   ]
  },
  {
   "cell_type": "code",
   "execution_count": 15,
   "id": "8f42fa38-cb00-43f3-ab67-e374c2c5e188",
   "metadata": {},
   "outputs": [
    {
     "name": "stdout",
     "output_type": "stream",
     "text": [
      "The 3 passwords listed below:\n"
     ]
    }
   ],
   "source": [
    "print(\"The\", nop ,\"passwords listed below:\")"
   ]
  },
  {
   "cell_type": "code",
   "execution_count": 20,
   "id": "c782bcdc-e5fe-43ac-85dd-1cd55d816eba",
   "metadata": {},
   "outputs": [
    {
     "name": "stdout",
     "output_type": "stream",
     "text": [
      "z/moNuU0a;ZNQmj\n",
      "8{&Ce.7iBVJzZ?<\n",
      "/5+bd/s8T4!bLU)\n"
     ]
    }
   ],
   "source": [
    "for _ in range(nop):\n",
    "    pwd  = \"\".join( secrets.choice(char) for _ in range(passlength))\n",
    "    print(pwd)"
   ]
  },
  {
   "cell_type": "code",
   "execution_count": 1,
   "id": "679410b2-b9c0-49de-8916-ce2c41675702",
   "metadata": {},
   "outputs": [
    {
     "name": "stdin",
     "output_type": "stream",
     "text": [
      "Enter password length:  10\n"
     ]
    },
    {
     "name": "stdout",
     "output_type": "stream",
     "text": [
      "Generated Password: 1W$pZ+n:p[\n"
     ]
    }
   ],
   "source": [
    "import secrets\n",
    "import string\n",
    "\n",
    "def generate_password(length=12):\n",
    "    characters = string.ascii_letters + string.digits + string.punctuation\n",
    "    password = ''.join(secrets.choice(characters) for _ in range(length))\n",
    "    return password\n",
    "\n",
    "if __name__ == \"__main__\":\n",
    "    password_length = int(input(\"Enter password length: \"))\n",
    "    print(\"Generated Password:\", generate_password(password_length))\n"
   ]
  },
  {
   "cell_type": "code",
   "execution_count": null,
   "id": "40bbd40d-8402-4ed8-9798-14bf203d1b38",
   "metadata": {},
   "outputs": [],
   "source": []
  }
 ],
 "metadata": {
  "kernelspec": {
   "display_name": "Python 3 (ipykernel)",
   "language": "python",
   "name": "python3"
  },
  "language_info": {
   "codemirror_mode": {
    "name": "ipython",
    "version": 3
   },
   "file_extension": ".py",
   "mimetype": "text/x-python",
   "name": "python",
   "nbconvert_exporter": "python",
   "pygments_lexer": "ipython3",
   "version": "3.13.2"
  }
 },
 "nbformat": 4,
 "nbformat_minor": 5
}
